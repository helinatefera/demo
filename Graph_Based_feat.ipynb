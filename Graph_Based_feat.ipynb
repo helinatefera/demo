{
  "metadata": {
    "kernelspec": {
      "language": "python",
      "display_name": "Python 3",
      "name": "python3"
    },
    "language_info": {
      "name": "python",
      "version": "3.10.12",
      "mimetype": "text/x-python",
      "codemirror_mode": {
        "name": "ipython",
        "version": 3
      },
      "pygments_lexer": "ipython3",
      "nbconvert_exporter": "python",
      "file_extension": ".py"
    },
    "kaggle": {
      "accelerator": "none",
      "dataSources": [
        {
          "sourceId": 3051927,
          "sourceType": "datasetVersion",
          "datasetId": 1868590
        }
      ],
      "dockerImageVersionId": 30918,
      "isInternetEnabled": true,
      "language": "python",
      "sourceType": "notebook",
      "isGpuEnabled": false
    },
    "colab": {
      "name": "Graph Based feat",
      "provenance": [],
      "include_colab_link": true
    }
  },
  "nbformat_minor": 0,
  "nbformat": 4,
  "cells": [
    {
      "cell_type": "markdown",
      "metadata": {
        "id": "view-in-github",
        "colab_type": "text"
      },
      "source": [
        "<a href=\"https://colab.research.google.com/github/helinatefera/demo/blob/Scripts/Graph_Based_feat.ipynb\" target=\"_parent\"><img src=\"https://colab.research.google.com/assets/colab-badge.svg\" alt=\"Open In Colab\"/></a>"
      ]
    },
    {
      "source": [
        "# IMPORTANT: RUN THIS CELL IN ORDER TO IMPORT YOUR KAGGLE DATA SOURCES,\n",
        "# THEN FEEL FREE TO DELETE THIS CELL.\n",
        "# NOTE: THIS NOTEBOOK ENVIRONMENT DIFFERS FROM KAGGLE'S PYTHON\n",
        "# ENVIRONMENT SO THERE MAY BE MISSING LIBRARIES USED BY YOUR\n",
        "# NOTEBOOK.\n",
        "import kagglehub\n",
        "steveandreasimmanuel_msvd_video_caption_path = kagglehub.dataset_download('steveandreasimmanuel/msvd-video-caption')\n",
        "\n",
        "print('Data source import complete.')\n"
      ],
      "metadata": {
        "id": "8ifoomiPrIeL"
      },
      "cell_type": "code",
      "outputs": [],
      "execution_count": null
    },
    {
      "cell_type": "code",
      "source": [
        "!pip install torch-geometric\n",
        "!pip install ultralytics\n",
        "!!pip install git+https://github.com/openai/CLIP.git\n",
        "!pip install detectron2\n",
        "!pip install yolov5"
      ],
      "metadata": {
        "trusted": true,
        "id": "lWLO7k-UrIeM"
      },
      "outputs": [],
      "execution_count": null
    },
    {
      "cell_type": "code",
      "source": [
        "import kagglehub\n",
        "\n",
        "# Download latest version\n",
        "path = kagglehub.dataset_download(\"steveandreasimmanuel/msvd-video-caption\")\n",
        "\n",
        "print(\"Path to dataset files:\", path)"
      ],
      "metadata": {
        "_uuid": "8f2839f25d086af736a60e9eeb907d3b93b6e0e5",
        "_cell_guid": "b1076dfc-b9ad-4769-8c92-a6c4dae69d19",
        "trusted": true,
        "id": "kw_ZCNmyrIeN"
      },
      "outputs": [],
      "execution_count": null
    },
    {
      "cell_type": "code",
      "source": [
        "import torch\n",
        "\n",
        "print(\"Number of GPUs available:\", torch.cuda.device_count())\n",
        "for i in range(torch.cuda.device_count()):\n",
        "    print(f\"GPU {i}: {torch.cuda.get_device_name(i)}\")\n"
      ],
      "metadata": {
        "trusted": true,
        "id": "clCW1ujGrIeN"
      },
      "outputs": [],
      "execution_count": null
    },
    {
      "cell_type": "code",
      "source": [
        "import logging\n",
        "logging.getLogger(\"ultralytics\").setLevel(logging.CRITICAL)"
      ],
      "metadata": {
        "trusted": true,
        "id": "7fw8fNDVrIeN"
      },
      "outputs": [],
      "execution_count": null
    },
    {
      "cell_type": "code",
      "source": [
        "!rm /kaggle/working/testing_all_video_features.pkl"
      ],
      "metadata": {
        "trusted": true,
        "id": "3HHsfbnXrIeN"
      },
      "outputs": [],
      "execution_count": null
    },
    {
      "cell_type": "markdown",
      "source": [
        "# CLIP with yolo"
      ],
      "metadata": {
        "id": "zFsjr679rIeO"
      }
    },
    {
      "cell_type": "code",
      "source": [
        "import torch\n",
        "import numpy as np\n",
        "import os\n",
        "from PIL import Image\n",
        "from torchvision import models, transforms\n",
        "import pickle\n",
        "import clip\n",
        "from ultralytics import YOLO\n",
        "from tqdm import tqdm  # Import tqdm for progress bar\n",
        "\n",
        "# Load CLIP model\n",
        "device = \"cuda\" if torch.cuda.is_available() else \"cpu\"\n",
        "clip_model, preprocess = clip.load(\"ViT-B/32\", device)\n",
        "\n",
        "# Load YOLO model\n",
        "yolo_model = YOLO(\"yolov8s.pt\")\n",
        "\n",
        "# Load ResNet for object feature extraction\n",
        "resnet = models.resnet50(pretrained=True)\n",
        "resnet.eval()\n",
        "\n",
        "# Transformation for ResNet\n",
        "transform = transforms.Compose([\n",
        "    transforms.Resize((224, 224)),\n",
        "    transforms.ToTensor(),\n",
        "    transforms.Normalize(mean=[0.485, 0.456, 0.406], std=[0.229, 0.224, 0.225])\n",
        "])\n",
        "\n",
        "# Function to extract frame-level features using CLIP\n",
        "def extract_frame_features_from_frame(frame):\n",
        "    frame_tensor = preprocess(frame).unsqueeze(0).to(device)\n",
        "    with torch.no_grad():\n",
        "        image_features = clip_model.encode_image(frame_tensor)\n",
        "        image_features = image_features / image_features.norm(dim=-1, keepdim=True)\n",
        "    return image_features.cpu().numpy()\n",
        "\n",
        "# Function to extract object-level features using YOLO\n",
        "def extract_object_features_from_frame(frame):\n",
        "    object_features = []\n",
        "    bounding_boxes = []\n",
        "\n",
        "    # Run YOLO object detection\n",
        "    results = yolo_model(frame,verbose=False)\n",
        "\n",
        "    # Process YOLO detections\n",
        "    for result in results:\n",
        "        for box in result.boxes.data.cpu().numpy():\n",
        "            x1, y1, x2, y2, score, class_id = box\n",
        "            if score > 0.6:  # Filter low-confidence detections\n",
        "                cropped_obj = frame.crop((x1, y1, x2, y2))\n",
        "                obj_tensor = transform(cropped_obj).unsqueeze(0)\n",
        "\n",
        "                with torch.no_grad():\n",
        "                    obj_feature = resnet(obj_tensor).view(-1).numpy()\n",
        "\n",
        "                object_features.append(obj_feature)\n",
        "                bounding_boxes.append([x1, y1, x2, y2])\n",
        "\n",
        "    return object_features, bounding_boxes\n",
        "\n",
        "# Function to process each video and extract features\n",
        "def process_video(video_folder):\n",
        "    frame_features_list = []\n",
        "    object_features_list = []\n",
        "    bounding_boxes_list = []\n",
        "\n",
        "    frame_files = sorted(os.listdir(video_folder))\n",
        "    for frame_name in frame_files[:5]:  # Process only the first 3 frames\n",
        "        frame_path = os.path.join(video_folder, frame_name)\n",
        "        frame = Image.open(frame_path).convert(\"RGB\")\n",
        "\n",
        "        # Extract frame-level features\n",
        "        frame_features = extract_frame_features_from_frame(frame)\n",
        "\n",
        "        # Extract object-level features\n",
        "        obj_features, boxes = extract_object_features_from_frame(frame)\n",
        "\n",
        "        object_features_list.append(obj_features)\n",
        "        bounding_boxes_list.append(boxes)\n",
        "        frame_features_list.append(frame_features)\n",
        "\n",
        "    return {\n",
        "        \"frame_features\": frame_features_list,\n",
        "        \"object_features\": object_features_list,\n",
        "        \"bounding_boxes\": bounding_boxes_list\n",
        "    }\n",
        "\n",
        "# Load existing features\n",
        "def load_existing_features(pkl_file):\n",
        "    if os.path.exists(pkl_file):\n",
        "        with open(pkl_file, 'rb') as f:\n",
        "            return pickle.load(f)\n",
        "    return {}\n",
        "\n",
        "# Save features\n",
        "def save_features_to_pkl(all_video_features, pkl_file):\n",
        "    os.makedirs(os.path.dirname(pkl_file), exist_ok=True)\n",
        "    with open(pkl_file, 'wb') as f:\n",
        "        pickle.dump(all_video_features, f)\n",
        "\n",
        "# Process multiple videos with a progress bar\n",
        "def process_videos(videos_folder, output_file):\n",
        "    all_video_features = load_existing_features(output_file)\n",
        "    video_list = sorted(os.listdir(videos_folder))\n",
        "\n",
        "    with tqdm(total=len(video_list), desc=\"Processing Videos\", unit=\"video\") as pbar:\n",
        "        for video_name in video_list:\n",
        "            if video_name in all_video_features:\n",
        "                pbar.update(1)  # Skip if already processed\n",
        "                continue\n",
        "\n",
        "            video_path = os.path.join(videos_folder, video_name)\n",
        "            if os.path.isdir(video_path):\n",
        "                video_features = process_video(video_path)\n",
        "                all_video_features[video_name] = video_features\n",
        "                save_features_to_pkl(all_video_features, output_file)\n",
        "            pbar.update(1)\n",
        "\n",
        "    return all_video_features\n",
        "\n",
        "# Example usage\n",
        "videos_folder = '/kaggle/input/msvd-video-caption/validation'\n",
        "output_file = '/kaggle/working/validation_all_video_features.pkl'\n",
        "\n",
        "all_video_features = process_videos(videos_folder, output_file)"
      ],
      "metadata": {
        "trusted": true,
        "id": "W3YTD5UUrIeO"
      },
      "outputs": [],
      "execution_count": null
    },
    {
      "cell_type": "markdown",
      "source": [
        "# CLIP with fasterrcnn"
      ],
      "metadata": {
        "id": "KEMey-nMrIeP"
      }
    },
    {
      "cell_type": "code",
      "source": [
        "import torch\n",
        "import numpy as np\n",
        "import os\n",
        "from PIL import Image\n",
        "from torchvision import models, transforms\n",
        "import pickle\n",
        "import clip\n",
        "from ultralytics import YOLO\n",
        "from tqdm import tqdm  # Import tqdm for progress bar\n",
        "\n",
        "# Suppress YOLO logs\n",
        "import logging\n",
        "logging.getLogger(\"ultralytics\").setLevel(logging.CRITICAL)\n",
        "\n",
        "# Load CLIP model\n",
        "device = \"cuda\" if torch.cuda.is_available() else \"cpu\"\n",
        "clip_model, preprocess = clip.load(\"ViT-B/32\", device)\n",
        "\n",
        "# Load YOLO model\n",
        "yolo_model = YOLO(\"yolov8s.pt\")\n",
        "\n",
        "# Load ResNet for object feature extraction\n",
        "resnet = models.resnet50(pretrained=True)\n",
        "resnet.eval()\n",
        "\n",
        "# Transformation for ResNet\n",
        "transform = transforms.Compose([\n",
        "    transforms.Resize((224, 224)),\n",
        "    transforms.ToTensor(),\n",
        "    transforms.Normalize(mean=[0.485, 0.456, 0.406], std=[0.229, 0.224, 0.225])\n",
        "])\n",
        "\n",
        "# Function to extract frame-level features using CLIP\n",
        "def extract_frame_features_from_frame(frame):\n",
        "    frame_tensor = preprocess(frame).unsqueeze(0).to(device)\n",
        "    with torch.no_grad():\n",
        "        image_features = clip_model.encode_image(frame_tensor)\n",
        "        image_features = image_features / image_features.norm(dim=-1, keepdim=True)\n",
        "    return image_features.cpu().numpy()\n",
        "\n",
        "# Function to extract object-level features using YOLO\n",
        "def extract_object_features_from_frame(frame):\n",
        "    object_features = []\n",
        "    bounding_boxes = []\n",
        "\n",
        "    # Run YOLO object detection (disable console output)\n",
        "    results = yolo_model(frame, verbose=False)\n",
        "\n",
        "    # Process YOLO detections\n",
        "    for result in results:\n",
        "        for box in result.boxes.data.cpu().numpy():\n",
        "            x1, y1, x2, y2, score, class_id = box\n",
        "            if score > 0.2:  # Filter low-confidence detections\n",
        "                cropped_obj = frame.crop((x1, y1, x2, y2))\n",
        "                obj_tensor = transform(cropped_obj).unsqueeze(0)\n",
        "\n",
        "                with torch.no_grad():\n",
        "                    obj_feature = resnet(obj_tensor).view(-1).numpy()\n",
        "\n",
        "                object_features.append(obj_feature)\n",
        "                bounding_boxes.append([x1, y1, x2, y2])\n",
        "\n",
        "    return object_features, bounding_boxes\n",
        "\n",
        "# Function to process each video and extract features\n",
        "def process_video(video_folder):\n",
        "    frame_features_list = []\n",
        "    object_features_list = []\n",
        "    bounding_boxes_list = []\n",
        "\n",
        "    frame_files = sorted(os.listdir(video_folder))\n",
        "    for frame_name in frame_files[:3]:  # Process only the first 3 frames\n",
        "        frame_path = os.path.join(video_folder, frame_name)\n",
        "        frame = Image.open(frame_path).convert(\"RGB\")\n",
        "\n",
        "        # Extract frame-level features\n",
        "        frame_features = extract_frame_features_from_frame(frame)\n",
        "\n",
        "        # Extract object-level features\n",
        "        obj_features, boxes = extract_object_features_from_frame(frame)\n",
        "\n",
        "        object_features_list.append(obj_features)\n",
        "        bounding_boxes_list.append(boxes)\n",
        "        frame_features_list.append(frame_features)\n",
        "\n",
        "    return {\n",
        "        \"frame_features\": frame_features_list,\n",
        "        \"object_features\": object_features_list,\n",
        "        \"bounding_boxes\": bounding_boxes_list\n",
        "    }\n",
        "\n",
        "# Load existing features\n",
        "def load_existing_features(pkl_file):\n",
        "    if os.path.exists(pkl_file):\n",
        "        with open(pkl_file, 'rb') as f:\n",
        "            return pickle.load(f)\n",
        "    return {}\n",
        "\n",
        "# Save features\n",
        "def save_features_to_pkl(all_video_features, pkl_file):\n",
        "    os.makedirs(os.path.dirname(pkl_file), exist_ok=True)\n",
        "    with open(pkl_file, 'wb') as f:\n",
        "        pickle.dump(all_video_features, f)\n",
        "\n",
        "# Process multiple videos with a progress bar\n",
        "def process_videos(videos_folder, output_file):\n",
        "    all_video_features = load_existing_features(output_file)\n",
        "    video_list = sorted(os.listdir(videos_folder))\n",
        "\n",
        "    with tqdm(total=len(video_list), desc=\"Processing Videos\", unit=\"video\", leave=True) as pbar:\n",
        "        for video_name in video_list:\n",
        "            if video_name in all_video_features:\n",
        "                pbar.update(1)  # Skip if already processed\n",
        "                continue\n",
        "\n",
        "            video_path = os.path.join(videos_folder, video_name)\n",
        "            if os.path.isdir(video_path):\n",
        "                video_features = process_video(video_path)\n",
        "                all_video_features[video_name] = video_features\n",
        "                save_features_to_pkl(all_video_features, output_file)\n",
        "            pbar.update(1)\n",
        "\n",
        "    return all_video_features\n",
        "\n",
        "# Example usage\n",
        "videos_folder = '/kaggle/input/msvd-video-caption/testing'\n",
        "output_file = '/kaggle/working/testing_all_video_features.pkl'\n",
        "\n",
        "all_video_features = process_videos(videos_folder, output_file)\n"
      ],
      "metadata": {
        "trusted": true,
        "id": "oiDtRrvSrIeP"
      },
      "outputs": [],
      "execution_count": null
    },
    {
      "cell_type": "code",
      "source": [],
      "metadata": {
        "trusted": true,
        "id": "L8n2tNYFrIeQ"
      },
      "outputs": [],
      "execution_count": null
    },
    {
      "cell_type": "code",
      "source": [],
      "metadata": {
        "trusted": true,
        "id": "TXM1PT_GrIeQ"
      },
      "outputs": [],
      "execution_count": null
    },
    {
      "cell_type": "code",
      "source": [
        "\n",
        "import pickle\n",
        "\n",
        "# Path to the saved pickle file\n",
        "pkl_file = \"/kaggle/working/testing_all_video_features.pkl\"\n",
        "\n",
        "# Load the features\n",
        "with open(pkl_file, \"rb\") as f:\n",
        "    video_graph_features = pickle.load(f)"
      ],
      "metadata": {
        "trusted": true,
        "execution": {
          "iopub.status.busy": "2025-03-05T15:48:58.522119Z",
          "iopub.execute_input": "2025-03-05T15:48:58.522431Z",
          "iopub.status.idle": "2025-03-05T15:48:58.605643Z",
          "shell.execute_reply.started": "2025-03-05T15:48:58.522408Z",
          "shell.execute_reply": "2025-03-05T15:48:58.604997Z"
        },
        "id": "ry_Pu_psrIeQ"
      },
      "outputs": [],
      "execution_count": null
    },
    {
      "cell_type": "code",
      "source": [
        "video_graph_features['eyhzdC936uk_15_27']['object_features'][0][0].shape"
      ],
      "metadata": {
        "trusted": true,
        "execution": {
          "iopub.status.busy": "2025-03-05T15:50:48.143994Z",
          "iopub.execute_input": "2025-03-05T15:50:48.144321Z",
          "iopub.status.idle": "2025-03-05T15:50:48.149534Z",
          "shell.execute_reply.started": "2025-03-05T15:50:48.144295Z",
          "shell.execute_reply": "2025-03-05T15:50:48.148547Z"
        },
        "id": "Z7OgitbnrIeQ",
        "outputId": "48c8993a-f144-46e3-986d-a855a2e2ea49"
      },
      "outputs": [
        {
          "execution_count": 9,
          "output_type": "execute_result",
          "data": {
            "text/plain": "(1000,)"
          },
          "metadata": {}
        }
      ],
      "execution_count": null
    },
    {
      "cell_type": "code",
      "source": [
        "# Example labels (you can expand this list)\n",
        "labels = [\"a photo of a cat\", \"a photo of a dog\", \"a photo of a car\", \"a photo of a person\"]\n",
        "text_inputs = clip.tokenize(labels).to(device)"
      ],
      "metadata": {
        "trusted": true,
        "id": "7yDE3NG4rIeQ"
      },
      "outputs": [],
      "execution_count": null
    },
    {
      "cell_type": "markdown",
      "source": [
        "# Feature Extraction with CLIP"
      ],
      "metadata": {
        "id": "GxhFPdX2rIeR"
      }
    },
    {
      "cell_type": "code",
      "source": [
        "import clip\n",
        "import torch\n",
        "from PIL import Image\n",
        "\n",
        "# Load the CLIP model and the preprocessing transform\n",
        "device = \"cuda\" if torch.cuda.is_available() else \"cpu\"\n",
        "model, preprocess = clip.load(\"ViT-B/32\", device)\n",
        "\n",
        "# Example labels (you can expand this list)\n",
        "labels = [\"a photo of a cat\",\"a boy playing with dog\", \"a photo of a dog\", \"a photo of a car\", \"a photo of a person\"]\n",
        "text_inputs = clip.tokenize(labels).to(device)\n",
        "\n",
        "# Assuming 'video_graph_features' contains the features already extracted from the video frame\n",
        "frame_features = video_graph_features['eyhzdC936uk_15_27']['frame_features'][2]  # Extracted CLIP features\n",
        "\n",
        "# Normalize the extracted frame features\n",
        "frame_features = torch.tensor(frame_features).to(device)  # Convert to tensor\n",
        "frame_features /= frame_features.norm(dim=-1, keepdim=True)\n",
        "\n",
        "# Get the text features\n",
        "with torch.no_grad():\n",
        "    text_features = model.encode_text(text_inputs)\n",
        "\n",
        "# Normalize the text features\n",
        "text_features /= text_features.norm(dim=-1, keepdim=True)\n",
        "\n",
        "# Calculate similarity between frame features and text features\n",
        "similarity = (frame_features @ text_features.T)\n",
        "\n",
        "# Get the predicted label (the index with the highest similarity score)\n",
        "values, indices = similarity.topk(1)\n",
        "predicted_label = labels[indices[0]]\n",
        "print(f\"Predicted label: {predicted_label}\")\n"
      ],
      "metadata": {
        "trusted": true,
        "id": "uP7A5KdprIeR"
      },
      "outputs": [],
      "execution_count": null
    },
    {
      "cell_type": "markdown",
      "source": [
        "# Feature Extraction with Resnet"
      ],
      "metadata": {
        "id": "UXDylT1LrIeR"
      }
    },
    {
      "cell_type": "code",
      "source": [
        "import torch\n",
        "import torch.nn.functional as F\n",
        "from torchvision import models, transforms\n",
        "from PIL import Image\n",
        "\n",
        "# Load pre-trained ResNet model\n",
        "device = \"cuda\" if torch.cuda.is_available() else \"cpu\"\n",
        "resnet = models.resnet50(pretrained=True).to(device)\n",
        "resnet.eval()  # Set to evaluation mode\n",
        "\n",
        "# Preprocessing for ResNet\n",
        "transform = transforms.Compose([\n",
        "    transforms.Resize((224, 224)),\n",
        "    transforms.ToTensor(),\n",
        "    transforms.Normalize(mean=[0.485, 0.456, 0.406], std=[0.229, 0.224, 0.225])\n",
        "])\n",
        "\n",
        "# Example labels (you can expand this list with more labels)\n",
        "labels = [\"a photo of a cat\", \"a boy playing with dog\",\"a photo of a dog\", \"a photo of a car\", \"a photo of a person\"]\n",
        "\n",
        "# Example function to get features from ResNet\n",
        "def extract_resnet_features(frame):\n",
        "    frame_tensor = transform(frame).unsqueeze(0).to(device)  # Preprocess frame\n",
        "    with torch.no_grad():\n",
        "        features = resnet(frame_tensor)  # Get ResNet features\n",
        "    return features\n",
        "\n",
        "# Example: Load the image ('image.jpg') and extract features using ResNet\n",
        "image_path = '/kaggle/input/msvd-video-caption/testing/eyhzdC936uk_15_27/003.jpg'  # Make sure this is the correct path to your image\n",
        "frame_image = Image.open(image_path).convert(\"RGB\")  # Open the image\n",
        "\n",
        "# Extract ResNet features for the image\n",
        "frame_resnet_features = extract_resnet_features(frame_image)  # Get ResNet features\n",
        "\n",
        "# Normalize the ResNet features\n",
        "frame_resnet_features /= frame_resnet_features.norm(dim=-1, keepdim=True)\n",
        "\n",
        "# Example: Compare extracted features with predefined text features\n",
        "# Here we calculate cosine similarity between the ResNet features and the text features.\n",
        "\n",
        "def cosine_similarity(a, b):\n",
        "    return F.cosine_similarity(a, b, dim=-1)\n",
        "\n",
        "# Create a dummy function for text encoding (in real scenario, this should be a pre-trained text model)\n",
        "def encode_text(label):\n",
        "    # This is a placeholder for text encoding (you can use a pre-trained model like BERT or similar for this)\n",
        "    return torch.randn(1, 1000).to(device)  # Dummy random vector to simulate text features\n",
        "\n",
        "# Get features for each label (text description)\n",
        "text_features = []\n",
        "for label in labels:\n",
        "    text_feature = encode_text(label)  # Use a real model to encode text\n",
        "    text_features.append(text_feature)\n",
        "\n",
        "# Stack text features into a tensor\n",
        "text_features = torch.stack(text_features).to(device)\n",
        "\n",
        "# Normalize text features\n",
        "text_features /= text_features.norm(dim=-1, keepdim=True)\n",
        "\n",
        "# Calculate similarity between image features and text features\n",
        "similarity = cosine_similarity(frame_resnet_features, text_features)\n",
        "\n",
        "# Find the label with the highest similarity\n",
        "values, indices = similarity.topk(1)\n",
        "predicted_label = labels[indices[0]]  # Get the predicted label\n",
        "\n",
        "# Output the predicted label\n",
        "print(f\"Predicted label for the image: {predicted_label}\")\n"
      ],
      "metadata": {
        "trusted": true,
        "id": "kMv6Bw80rIeR"
      },
      "outputs": [],
      "execution_count": null
    },
    {
      "cell_type": "markdown",
      "source": [
        "# Object Detection"
      ],
      "metadata": {
        "id": "vF4k7vzRrIeR"
      }
    },
    {
      "cell_type": "code",
      "source": [
        "import torch\n",
        "import torchvision.transforms as transforms\n",
        "from PIL import Image\n",
        "import matplotlib.pyplot as plt\n",
        "import cv2\n",
        "import numpy as np\n",
        "\n",
        "# Load YOLOv8\n",
        "from ultralytics import YOLO\n",
        "\n",
        "# Load Faster R-CNN\n",
        "from torchvision.models.detection import fasterrcnn_resnet50_fpn\n",
        "\n",
        "# Load Models\n",
        "yolo_model = YOLO(\"yolov8n.pt\")  # YOLOv8 Nano (fast and lightweight)\n",
        "fasterrcnn_model = fasterrcnn_resnet50_fpn(pretrained=True)\n",
        "fasterrcnn_model.eval()\n",
        "\n",
        "# Load Image\n",
        "image_path = \"/kaggle/input/msvd-video-caption/testing/eyhzdC936uk_15_27/060.jpg\"\n",
        "image = Image.open(image_path).convert(\"RGB\")\n",
        "\n",
        "# Preprocessing for Faster R-CNN\n",
        "transform = transforms.Compose([\n",
        "    transforms.ToTensor()\n",
        "])\n",
        "image_tensor = transform(image).unsqueeze(0)\n",
        "\n",
        "# Perform Detection with Faster R-CNN\n",
        "with torch.no_grad():\n",
        "    fasterrcnn_preds = fasterrcnn_model(image_tensor)[0]\n",
        "\n",
        "# Perform Detection with YOLOv8\n",
        "yolo_preds = yolo_model(image_path)\n",
        "\n",
        "# Count objects detected\n",
        "num_fasterrcnn_objects = sum(1 for score in fasterrcnn_preds[\"scores\"] if score > 0.5)\n",
        "num_yolo_objects = len(yolo_preds[0].boxes)\n",
        "\n",
        "# Print Comparison\n",
        "print(f\"Faster R-CNN detected {num_fasterrcnn_objects} objects\")\n",
        "print(f\"YOLOv8 detected {num_yolo_objects} objects\")\n",
        "\n",
        "# Visualization Function\n",
        "def draw_boxes(image, boxes, scores, color, model_name):\n",
        "    \"\"\"Draw bounding boxes on the image.\"\"\"\n",
        "    image = np.array(image)\n",
        "    image = cv2.cvtColor(image, cv2.COLOR_RGB2BGR)\n",
        "\n",
        "    for i, box in enumerate(boxes):\n",
        "        if scores[i] > 0.5:  # Confidence threshold\n",
        "            x1, y1, x2, y2 = map(int, box)\n",
        "            cv2.rectangle(image, (x1, y1), (x2, y2), color, 2)\n",
        "            cv2.putText(image, f\"{model_name} {scores[i]:.2f}\", (x1, y1 - 10),\n",
        "                        cv2.FONT_HERSHEY_SIMPLEX, 0.5, color, 2)\n",
        "\n",
        "    return cv2.cvtColor(image, cv2.COLOR_BGR2RGB)\n",
        "\n",
        "# Draw YOLO Bounding Boxes\n",
        "yolo_img = draw_boxes(image, yolo_preds[0].boxes.xyxy, yolo_preds[0].boxes.conf, (0, 255, 0), \"YOLO\")\n",
        "\n",
        "# Draw Faster R-CNN Bounding Boxes\n",
        "faster_img = draw_boxes(image, fasterrcnn_preds[\"boxes\"], fasterrcnn_preds[\"scores\"], (255, 0, 0), \"Faster R-CNN\")\n",
        "\n",
        "# Show Results\n",
        "plt.figure(figsize=(10, 5))\n",
        "plt.subplot(1, 2, 1)\n",
        "plt.imshow(yolo_img)\n",
        "plt.title(\"YOLO Detection\")\n",
        "\n",
        "plt.subplot(1, 2, 2)\n",
        "plt.imshow(faster_img)\n",
        "plt.title(\"Faster R-CNN Detection\")\n",
        "\n",
        "plt.show()"
      ],
      "metadata": {
        "trusted": true,
        "id": "FIvPNNiWrIeR"
      },
      "outputs": [],
      "execution_count": null
    },
    {
      "cell_type": "markdown",
      "source": [
        "# Context aware"
      ],
      "metadata": {
        "id": "dCKf7HbhrIeR"
      }
    },
    {
      "cell_type": "code",
      "source": [],
      "metadata": {
        "trusted": true,
        "id": "wM-gUpjHrIeR"
      },
      "outputs": [],
      "execution_count": null
    }
  ]
}